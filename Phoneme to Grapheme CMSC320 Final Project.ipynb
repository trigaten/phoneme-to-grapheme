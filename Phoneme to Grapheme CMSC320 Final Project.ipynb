{
 "cells": [
  {
   "cell_type": "markdown",
   "metadata": {
    "collapsed": false
   },
   "source": [
    "## <center>Attention Isn't Quite All You Need: Building a SOTA Phoneme to Grapheme (P2G) Recurrent Generative Conversion Model from Scratch with GRUs, Attention, and a Little Bit of Subterfuge </center>\n",
    "### <center> Sander Schulhoff, Ryan Brown, Xinyi Liu </center>\n",
    "\n",
    "<center><img src=\"gg.jpg\" alt=\"drawing\" width=\"600\"/></center>\n",
    "\n",
    "<center>\"p2g seq2seq attention model\" by GauGAN</center>\n",
    "\n",
    "### The Importance of Language\n",
    "\n"
   ]
  },
  {
   "cell_type": "markdown",
   "metadata": {
    "collapsed": false,
    "pycharm": {
     "name": "#%% md\n"
    }
   },
   "source": [
    "In a world where humanity never developed language, would humans still have been able to communicate with the precision required to convey advanced knowledge to other humans? Without language, many of today's inventions and scientific progressions would never have existed. An evolutionary biologist went as far as saying that the creation of language is \"the most important evolutionary invention of the last few million years\" (Nowak 2000). Language allows humans to communicate information with a level of precision that no other animal on earth can replicate. According to psychologists and historians, rational thought can happen without language, but communicating and passing these ideas down through generations are the central tendencies that allow humans to cooperate, develop, and thrive across the globe.\n",
    "\n",
    "The Oxford Dictionary describes linguistics as \"the scientific study of language and its structure, including the\n",
    "study of morphology, syntax, phonetics, and semantics\". From that definition, morphology is the study of words, whose\n",
    " smallest character building blocks are graphemes, and phonetics is the pronunciations of those words and graphemes\n",
    " (Oxford English Dictionary 2021). Most humans can process and recognize words based on their oral pronunciation in\n",
    " their local dialect, but oral communication is not the sole form of communication. In this project, we will be\n",
    " focusing on the importance and applications of oral communication. To accomplish this, we apply data science to\n",
    " create a neural network that converts a word's phonetics to its grapheme (or english character) spelling."
   ]
  },
  {
   "cell_type": "markdown",
   "metadata": {
    "collapsed": false,
    "pycharm": {
     "name": "#%% md\n"
    }
   },
   "source": [
    "### Why Predict Words and Graphemes?\n",
    "Today's speech recognition systems use varied techniques. However, many of the most commonly used speech recognition\n",
    "systems such as Bixby, Siri, Alexa, and Google do not attempt to spell words outside the system's dictionary. For\n",
    "example, a person's name may be easy to pronounce, but may have unusual spelling. A food's name may be unique and not\n",
    " listed in dictionaries. To give speech interpretation systems, like Alexa and Siri, a boost in their range of\n",
    " responses, we proposed implementing a new system that attempts to predict graphemes from phoneme spelling."
   ]
  },
  {
   "cell_type": "markdown",
   "metadata": {
    "collapsed": false,
    "pycharm": {
     "name": "#%% md\n"
    }
   },
   "source": [
    "### Our Project\n",
    "Our project aims to predict graphemes from phonemes. After the completion of our project, the next step would be to\n",
    "map audio to phonemes, which would allow a speaker to say any English word and have the model produce the\n",
    "corresponding spelling. If the model outputs incorrect results, we hypothesized that a robust autocorrect library would\n",
    "often correct the attempted word into the correct word. As a result, we expect that converting phonemes to graphemes\n",
    "to be a step towards technology having an enhanced ability to recognize speech and produce text that closely resembles\n",
    "the phonetics of speech, providing enhanced communication between users and computational devices and aiding in the evolution of communication.\n",
    "\n",
    "### Webscraping and Cleaning Phonetics\n",
    "We chose to web scrape phonetic spellings from two web sources: merriam-webster.com and dictionary.com. We also attempted to use\n",
    "multiple pdf sources, which did not yield good results. Our code allows for switching between websites by simply\n",
    "adding a new source in the identified code section. However, after reviewing the data, we discovered that dictionary\n",
    ".com produced better and more consistent results, so we decided to choose that website as our sole source of data\n",
    "collection. Unfortunately, the structure of the phonetics section of the web pages was not entirely consistent across\n",
    " different words. This inconsistency required us to write code that handled various new edge cases in order to ensure that\n",
    " our CSV (comma-separated values file) would only contain correct data. We initially used synchronous methods of\n",
    " acquiring data. However, concurrency reduced the program runtime by nearly 75%, as determined by runtime logging. The performance increase allowed us to collect data significantly faster, allowing for a larger dataset and better finetuning of our model. As a result, we acquired over 78,000 phoneme-grapheme combinations for use with our model."
   ]
  },
  {
   "cell_type": "markdown",
   "metadata": {
    "collapsed": false
   },
   "source": [
    "### Necessary Imports\n",
    "For scraping, we import several packages:\n",
    "\n",
    "\"OS\" to make sure this code works on various operating systems <br>\n",
    "\"re\" to search and match regular expressions <br>\n",
    "\"NumPy\" for their numerical \"random\" function <br>\n",
    "\"bs4\" for parsing HTML webpages <br>\n",
    "\"codecs\" to have the ability to write unique characters to files using utf-8-sig <br>\n",
    "\"requests\" to request the webpage <br>\n",
    "\"time\" for logging the runtime <br>\n",
    "\"concurrent.futures\" for concurrency <br>"
   ]
  },
  {
   "cell_type": "code",
   "execution_count": null,
   "metadata": {
    "collapsed": false,
    "pycharm": {
     "name": "#%%\n"
    }
   },
   "outputs": [],
   "source": [
    "import os\n",
    "import re\n",
    "import numpy as np\n",
    "import bs4\n",
    "import codecs\n",
    "import requests\n",
    "import time\n",
    "import concurrent.futures  # This import is important for concurrency."
   ]
  },
  {
   "cell_type": "markdown",
   "metadata": {
    "collapsed": false
   },
   "source": [
    "### Initialize key variables\n",
    "In order to tailer this file to meet the unique needs of users, we coded several main\n",
    "variablesthat can be interchanged between users. These variables include: website to scrape, the base URL, their list\n",
    " of words to find on the\n",
    "website, a\n",
    "list of all known words with no pages or broken phonetics, the number of words to find, and a list of words that have\n",
    " not yet been attempted."
   ]
  },
  {
   "cell_type": "code",
   "execution_count": null,
   "metadata": {
    "collapsed": false,
    "pycharm": {
     "name": "#%%\n"
    }
   },
   "outputs": [],
   "source": [
    "codecs.register_error(\"strict\", codecs.ignore_errors)\n",
    "\n",
    "# Basic Background Info\n",
    "headers = {'User-Agent': \"Mozilla/5.0 (Macintosh; Intel Mac OS X x.y; rv:42.0) Gecko/20100101 Firefox/42.0\"}\n",
    "merriam = \"https://www.merriam-webster.com/dictionary/\"\n",
    "dictionary_web = \"https://www.dictionary.com/browse/\"\n",
    "base_url = dictionary_web  # URL to get words and phonetics from\n",
    "\n",
    "dict_filename = \"words_beta.txt\"  # `Name of the file containing many words - error\n",
    "err_filename = \"404s.txt\"  # List of all of the known error words to eliminate the future chance of choosing those sites\n",
    "\n",
    "# Get current location based on operating system\n",
    "fileDir = os.path.dirname(os.path.realpath('words_beta.txt'))\n",
    "\n",
    "original_size = 1000  # Change this value to change the dataset size and automatically acquire the amount needed\n",
    "new_size = original_size  # Used to subtract the size of any existing sets from the amount needed.\n",
    "\n",
    "# Do the initial parsing of the dictionary file of words that have not yet been attempted.\n",
    "dict_file = open(dict_filename).read()\n",
    "dict_list = dict_file.split(\"\\n\")\n",
    "curr_words = []\n",
    "dict_len = len(dict_list)\n",
    "\n",
    "# Regex required to remove various characters from webscraped strings, cannot use \\w since there are non letter chars.\n",
    "regex = r\"( |\\n([a-z][A-Z])*\\n|\\'|\\[|\\]|ˈ|\\+|\\\"|\\(\"\n",
    "        r\"|\\)|ˌ||-|͟|¦|\\||‧|͟|&|–|—|͟|‧|;|pronunciationat|\\r|\\\\|\\/|for\\d*|\\d)*\"\n",
    "to_replace = r\"^noun |^pronoun |^verb |^adjective |^adverb |^preposition |^conjunction |^interjection \"\n",
    "\n",
    "write_file = \"phonemes-words.csv\"  # The file to write phoneme-words to\n",
    "append_or_write = \"a\"  # w to erase write_file and rewrite, a to append to current csv\n",
    "\n",
    "words_added = 0  # Used to keep track of the total number of words added\n",
    "fixed_set = []  # Set of words added to the phonetics"
   ]
  },
  {
   "cell_type": "code",
   "execution_count": null,
   "metadata": {
    "collapsed": false,
    "pycharm": {
     "name": "#%% Initialize intro parameters\n"
    }
   },
   "outputs": [],
   "source": [
    "# Separate the file by lines to retrieve the length\n",
    "if append_or_write == \"a\":\n",
    "    temp_read = codecs.open(write_file, \"r\", \"utf-8-sig\")\n",
    "    new_size -= len(codecs.open(write_file, \"r\", \"utf-8-sig\").read().split(\"\\n\"))\n",
    "    temp_read.close()\n"
   ]
  },
  {
   "cell_type": "markdown",
   "metadata": {
    "collapsed": false
   },
   "source": [
    "### Declare key functions and then run the code to acquire the phonetics efficiently\n",
    "This section consists of several key functions, get_urls(), get_word(), get_one(), and get_all(). These functions are\n",
    " the\n",
    "functions that allow users to retrieve information from various dictionary sites. get_urls() retrieves (size) random\n",
    "words from the word list and converts them into the appropriate url. get_all() requests URLs concurrently by\n",
    "using multithreading to call get_one(). get_one() requests one webpage from urls. The HTML result is then processed\n",
    "by get_word(), which retrieves the correct word and its respective phonetics."
   ]
  },
  {
   "cell_type": "code",
   "execution_count": null,
   "metadata": {
    "collapsed": false,
    "pycharm": {
     "name": "#%%\n"
    }
   },
   "outputs": [],
   "source": [
    "start_time = time.time()\n",
    "\n",
    "\n",
    "def get_urls(size):\n",
    "    \"\"\"\n",
    "    This is the main function to get the urls of size \"size\", returns a list of urls pointing dictionary words+phonetics\n",
    "\n",
    "    :param size: the number of unique urls to create using the words_beta words list\n",
    "    :type size: int\n",
    "    :return: set of unique URLs with names\n",
    "    \"\"\"\n",
    "    global dict_list\n",
    "    empty_set = set([None])  # Empty set used to remove empty sets from lists\n",
    "    urls = [None] * size  # Indexing the urls using iterators is around 25% faster than appending\n",
    "\n",
    "    # Keep adding numbers until the target size is reached\n",
    "    # print(len(dict_list))\n",
    "    for i in range(size):\n",
    "        new_num = np.random.randint(0, high=len(dict_list))  # Get random number\n",
    "        word = dict_list[new_num]  # Use random number to retrieve word from dictionary\n",
    "\n",
    "        # Changes the base url to include the new word to get that word from the website\n",
    "        modified_url = base_url + word\n",
    "        urls[i] = modified_url\n",
    "\n",
    "    return_set = set(urls) - empty_set  # Remove empty set and duplicates from list of urls\n",
    "\n",
    "    # Keep getting more urls until the size is reached.\n",
    "    while len(return_set) < size:\n",
    "        print(\"Return Set Length: \" + str(len(return_set)))\n",
    "        return_set.update(get_urls(size - len(return_set)))\n",
    "\n",
    "    return return_set  # Returns\n",
    "\n",
    "\n",
    "total_failed = 0  # Uses this variable to track number of items that fail.\n",
    "\n",
    "\n",
    "def get_word(curr_page, word):\n",
    "    \"\"\"\n",
    "    Takes a html page and word as a parameter to parse and retrieve the word on the page and phonetics.\n",
    "\n",
    "    :param curr_page: Stored HTML page to parse and scrape\n",
    "    :param word: The word to scrape from the page\n",
    "    :type curr_page: HTML\n",
    "    :type word: str\n",
    "    :rtype: str\n",
    "\n",
    "    :return: string formatted as \"phoneme,word\" for storage as a CSV file\n",
    "    \"\"\"\n",
    "\n",
    "    def add_err():\n",
    "        \"\"\"\n",
    "        # A commonly used sequence of lines in this method to add the word to list of unavailable words\n",
    "\n",
    "        :return:\n",
    "        \"\"\"\n",
    "        # Write the word to the not_found list\n",
    "        not_found = codecs.open(err_filename, \"a\")\n",
    "        not_found.write(word + \"\\n\")\n",
    "        not_found.close()\n",
    "\n",
    "        ## This section is used to determine webscraping progress, but is not necessary\n",
    "        global total_failed, words_added  # Access these variables to help calculate number remaining.\n",
    "        total_failed -= 1  # Decrement the total fails if the page is unavailable.\n",
    "        print(\"Failed:\\t\\t\\t\" + str(\"\\t\") + \":\\t\\t\" + word)  # Print if the word could not be added\n",
    "\n",
    "    if curr_page.status_code == 404:\n",
    "        add_err()\n",
    "        # If the page was not valid, try another number combination\n",
    "\n",
    "    else:\n",
    "\n",
    "        # Retrieve the word and phonetics from the page using bs4\n",
    "        if base_url is merriam:\n",
    "            regex1 = r\"( |\\'|\\[|\\]|ˈ|\\+|\\\"|\\(|\\)|ˌ||-|͟|¦|\\||‧|͟|&|–|—|͟|‧|pronunciationat)*\"\n",
    "            web_result = curr_page.content  # Return the new word and page contents\n",
    "            soup = bs4.BeautifulSoup(web_result, \"html.parser\")\n",
    "            word_soup = soup.find_all('h1', {'class': 'hword'})\n",
    "            phonetics = soup.find_all('span', {'class': 'pr'})\n",
    "\n",
    "        else:\n",
    "            regex1 = r\"(ˈ| |/)\"\n",
    "            web_result = curr_page.content  # Return the new word and page contents\n",
    "            soup = bs4.BeautifulSoup(web_result, \"html.parser\")\n",
    "            word_soup = soup.find_all('h1', {'class': 'css-1sprl0b e1wg9v5m5'})\n",
    "            phonetics = soup.find_all('span', {'class': 'pron-ipa-content css-7iphl0 evh0tcl1'})\n",
    "            # print(str(word_soup) + \",\" + str(phonetics))\n",
    "\n",
    "        # Check if both words are of valid lengths\n",
    "        if len(phonetics) >= 1 and len(word_soup) >= 1:\n",
    "            global new_size, total_failed, words_added  # Total number of words added\n",
    "\n",
    "            actual_word = word_soup[0].text.lower()  # Make sure all text is lowercase\n",
    "\n",
    "            # If the word is already in the set, added it to 404s list to avoid repeating terms\n",
    "            # Some words with suffixes and prefixes used only the base word phonetics, causing repeat terms.\n",
    "            if actual_word in curr_words:\n",
    "                add_err()\n",
    "                return\n",
    "            words_added += 1\n",
    "            phonetics = phonetics[0].text.lower()  # Retrieve phonetics\n",
    "\n",
    "            # Some phonetics have multiple pronunciation variations, we only use one\n",
    "            if \",\" or \";\" in phonetics:\n",
    "                phonetics = phonetics.split(\",\")[0].split(\";\")[0]\n",
    "                # print(\"changed p: \" + phonetics)\n",
    "\n",
    "            # Remove all invalid characters\n",
    "            phonetics = re.sub(to_replace, \"\", phonetics)\n",
    "            fixed_phonetics = re.sub(regex1, \"\", phonetics)\n",
    "            # Combine the words into one line for CSV preparation\n",
    "            csv_formatted = fixed_phonetics + \",\" + actual_word\n",
    "\n",
    "            # Write the line to the file.\n",
    "            text_file = codecs.open(write_file, \"a\", \"utf-8-sig\")\n",
    "            text_file.write(csv_formatted + \"\\n\")\n",
    "            text_file.close()\n",
    "\n",
    "            print(\"Words Left:\\t\\t\" + str(new_size - words_added) + \"\\t\\t\" + csv_formatted)\n",
    "\n",
    "            return csv_formatted  # return the formatted string line\n",
    "\n",
    "        else:\n",
    "            # If the adding part does succeed, then add word to error list\n",
    "            add_err()\n",
    "\n",
    "\n",
    "def get_one(url):\n",
    "    \"\"\"\n",
    "    Request and process one url at a time\n",
    "\n",
    "    :param url: the url to request\n",
    "    :rtype: HTTP error handler\n",
    "    \"\"\"\n",
    "    curr_page = requests.get(url)\n",
    "    get_word(curr_page, url.replace(base_url, \"\"))\n",
    "    return curr_page.raise_for_status()\n",
    "\n",
    "\n",
    "def get_all(urls):\n",
    "    \"\"\"\n",
    "    Concurrent method used to retrieve all urls at a maximum rate of 20 requests\n",
    "\n",
    "    :param urls: the list of urls to request\n",
    "    :type urls: list\n",
    "    \"\"\"\n",
    "    with concurrent.futures.ThreadPoolExecutor(max_workers=20) as executor:\n",
    "        futures = [executor.submit(get_one, url) for url in urls]\n",
    "\n",
    "    # Log the results and exceptions after the process is completed\n",
    "    for fut in futures:\n",
    "        if fut.exception() is not None:\n",
    "            print('{}: {}'.format(fut.exception(), 'ERR'))\n",
    "        else:\n",
    "            print('{}: {}'.format(fut.result(), 'OK'))"
   ]
  },
  {
   "cell_type": "markdown",
   "metadata": {
    "collapsed": false,
    "pycharm": {
     "name": "#%% md\n"
    }
   },
   "source": [
    "### Clean the Data\n",
    "This is one of the most important functions in the data gathering phase. Without clean data, the model would not be\n",
    "able to give accurate predictions. Remove invalids is the result of many iterations and reviews of thousands of words\n",
    " to find edge cases and account for them in the code. We remove various symbols, phrases, and filter out by\n",
    " phoneme-word letter difference to create a hard margin that will almost always produce accurate data."
   ]
  },
  {
   "cell_type": "code",
   "execution_count": null,
   "metadata": {
    "collapsed": false,
    "pycharm": {
     "name": "#%%\n"
    }
   },
   "outputs": [],
   "source": [
    "def remove_invalids():\n",
    "    \"\"\"\n",
    "    This function removes any invalid characters, words, repeat elements, and fixes the formatting of words,\n",
    "    accounts for edge cases, and fixes as much data as it can before writing it to the file or removing the data\n",
    "    completely if it cannot be fixed.\n",
    "\n",
    "    :rtype: set\n",
    "    :return: set of remaining words after all invalid words are removed\n",
    "    \"\"\"\n",
    "    new_fails = 0  # Number of new elements that are removed\n",
    "    read_file = codecs.open(write_file, \"r\", \"utf-8-sig\")  # Retrieve the current phonemes-words list\n",
    "    fix_lines = read_file.read()  # Read the file\n",
    "    read_file.close()\n",
    "\n",
    "    init_length = len(fix_lines.split(\"\\n\"))  # The original number of of phoneme-word combination.\n",
    "\n",
    "    global regex  # the regex function written earlier\n",
    "    # Regex to remove common parts of speech accompanying phonetics to be acquired on dictionary.com\n",
    "    re2 = r\"\\n(noun|pronoun|verb|adjective|adverb|preposition|conjunction|interjection)\"\n",
    "    # print(re.findall(re2, fix_lines)) # Can be used to debug/discover all lines that match re2\n",
    "    fix_lines = re.sub(re2, \"\\n\", fix_lines).replace(\"or,\", \",\")  # correct the common edge cases\n",
    "    lines = re.sub(regex, \"\", fix_lines).replace(r\"﻿\", \"\").split(\"\\n\")  # remove the formatting, split by line\n",
    "\n",
    "    new_lines = []  # Used to determine what the new lines will be\n",
    "    drop_lines = []  # Used to determine which lines to remove from the set\n",
    "\n",
    "    # Recreate the phoneme-word list object separating by the comma from the CSV file\n",
    "    for line in lines:\n",
    "        split_lines = line.split(\",\")\n",
    "        if len(split_lines) == 2:  # Only add the line to new_lines if they are the correct size\n",
    "            new_lines.append(split_lines)\n",
    "\n",
    "        else:\n",
    "            drop_lines.append(line)  # Remove the line otherwise\n",
    "\n",
    "    # Remove each element in drop_lines from the original lines list for processing\n",
    "    for line in drop_lines:\n",
    "        lines.remove(line)\n",
    "\n",
    "    remove_lines = []  # Lines to remove from the current dictionary\n",
    "\n",
    "    \"\"\"\n",
    "    Remove any elements with phonetics that looks suspicious.\n",
    "    These elements are not within 3 characters of length when compared to the original word.\n",
    "    Remove the term if the line is less than 60% of the original length as well, that would imply a 40% reduction\n",
    "    in length from word to phoneme and is uncommon in the english language.\n",
    "    \"\"\"\n",
    "    for new_line in new_lines:\n",
    "        if len(new_line) == 2 and\n",
    "                (len(new_line[0]) < (.6 * len(new_line[1])) or len(new_line[0]) > (len(new_line[1]) + 3)):\n",
    "            remove_lines.append(new_line)\n",
    "\n",
    "        # Lines to remove from the list of words.\n",
    "        elif not len(new_line) == 2:\n",
    "            remove_lines.append(new_line)\n",
    "\n",
    "        else:\n",
    "            # Try to resolve another known edge case\n",
    "            non_abc = re.match(r\"[a-zA-Z]*[^a-zA-Z\\d\\s:][a-zA-Z]*\", new_line[1])\n",
    "            # If the match did not occur, ignore this element.\n",
    "            if non_abc:\n",
    "                print(non_abc.group(0))\n",
    "                remove_lines.append(new_line)\n",
    "\n",
    "    remove_set = set()  # Set of items to be removed\n",
    "    remove_lines = remove_lines[:len(remove_lines) - 1]  # Removes the empty set.\n",
    "    not_found = codecs.open(err_filename, \"a\")  # Add all not found elements to the list of error 404s.\n",
    "\n",
    "    for remove in remove_lines:\n",
    "        #For each line that was successfully added, attempt to add it to the 404s list\n",
    "        try:  # This is a case where both words exist, but for some reason the word is unacceptable\n",
    "            remove_set.add(str(remove[0]) + \",\" + str(remove[1]))\n",
    "            not_found.write(str(remove[1]) + \"\\n\")\n",
    "            print(\"Removed: \" + remove[1])\n",
    "            new_fails += 1\n",
    "\n",
    "        except:\n",
    "            try:  # If that case fails, there is another case where the second element does not exist\n",
    "                print(remove[0])\n",
    "                remove_set.add(str(remove[0]))\n",
    "                not_found.write(str(remove[0]) + \"\\n\")\n",
    "                new_fails += 1\n",
    "\n",
    "            except:\n",
    "                # If this term's formatting is bad, print this did not work and add it to the list of 404s.\n",
    "                print(\"This did not work\")\n",
    "                error = codecs.open(\"weird_words.txt\", \"a\", \"utf-8-sig\")\n",
    "                error.write(str(remove))\n",
    "                error.close()\n",
    "\n",
    "    not_found.close()\n",
    "\n",
    "    # Final set is the set of words remaining to be acquired.\n",
    "    final_set = set(lines) - remove_set - set([\"\"]) - set([\"phonemes,graphemes\\n\"])\n",
    "    purged = init_length - len(final_set)  # the difference between start and end lengths is the number purged.\n",
    "\n",
    "    print(\"Total_Purged:\\t\\t\" + str(purged))  #Can be used for debugging or progress verification.\n",
    "\n",
    "    # Empty the phoneme-words file, and write the headers, \"phonemes and graphemes\" to the file first\n",
    "    end_block = codecs.open(write_file, \"w\", \"utf-8-sig\")\n",
    "    end_block.write(\"phonemes,graphemes\\n\")\n",
    "\n",
    "    # Write each of the remaining words, which should have good formatting, in final_set to the phonemes-words list.\n",
    "    for line in final_set:\n",
    "        end_block.write(str(line).lower() + \"\\n\")\n",
    "    end_block.close()\n",
    "\n",
    "    # Reopen the error file, parse the terms in it, create a set.\n",
    "    error_file = codecs.open(err_filename, \"r\", \"utf-8-sig\")\n",
    "    err = set(error_file.read().replace(\"\\r\", \"\").split(\"\\n\"))\n",
    "    error_file.close()\n",
    "\n",
    "    global dict_list, curr_words\n",
    "    # Get the set of the list of words fro from final set\n",
    "    curr_words = set([word.split(\",\")[1] for word in final_set])\n",
    "    dict_list = list((set(dict_list) - curr_words) - err)  # Update the global list of remaining words\n",
    "    return final_set  # Return the set of words remaining in the phonemes-words csv\n",
    "\n",
    "\n",
    "times_phon_was_run = 0  # Number of times the phon function was run."
   ]
  },
  {
   "cell_type": "markdown",
   "metadata": {
    "collapsed": false,
    "pycharm": {
     "name": "#%% md\n"
    }
   },
   "source": [
    "### Execute the main data-gathering function\n",
    "Before starting to acquire data we always want to make sure that we have all data needed in the correct form, so we\n",
    "run\n",
    "\"remove invalids\" before acquiring any new data. Then we acquire as much data as we need to reach \"original size\"\n",
    "phon is the main function used to acquire new phonetics and consists of the functions above. Phon allows you to\n",
    "acquire data in \"groups\" of size \"group_size\" which will run remove_invalids() every time group size is reached to\n",
    "eliminate the likelihood that data that was acquired is repeated by using random words."
   ]
  },
  {
   "cell_type": "code",
   "execution_count": null,
   "metadata": {
    "collapsed": false,
    "pycharm": {
     "name": "#%%\n"
    }
   },
   "outputs": [],
   "source": [
    "def phon(size):\n",
    "    \"\"\"\n",
    "    The main key function used to request and process size number of word-phonetics.\n",
    "    This function will only be called once every time \"size\" has been reached.\n",
    "\n",
    "    :param size: the number of elements to retrieve phonetics for\n",
    "    :type size: int\n",
    "    \"\"\"\n",
    "    # access the global class variables\n",
    "    global new_size\n",
    "    global times_phon_was_run\n",
    "    global words_added, total_failed, dict_list, dict_file\n",
    "\n",
    "    # Set both words added and total failed to 0\n",
    "    words_added = total_failed = 0\n",
    "    group_size = 1000  # How many webpages to scrape before updating 404s and the words_beta word list.\n",
    "    new_size = size\n",
    "\n",
    "    times_phon_was_run += 1  # Used in debugging to track number of times this function is called.\n",
    "    # print(\"Again: \" + str(times_phon_was_run)) # Used in debugging to track number of times this function is called.\n",
    "    rounds = int(size / group_size)  # The number of times to acquire group_size elements to reach size\n",
    "\n",
    "    for i in range(rounds):\n",
    "        # print(\"Round: \" + str(i))\n",
    "        urls = get_urls(group_size)  # get a list of group_size urls with words from words_beta\n",
    "        get_all(urls)  # concurrently acquire size number of urls, downloading up to 20 urls at a time\n",
    "        remove_invalids()  # remove any and all invalid elements\n",
    "\n",
    "    urls = get_urls(size - rounds * group_size)  # acquire remaining urs, since there will likely be a remainder.\n",
    "    get_all(urls)  # get all of the remaining urls after all group sizes have been reached.\n",
    "\n",
    "\n",
    "fixed_set = remove_invalids()  # Removes around 99.9% of current invalid lines before attempting to acquire new words\n",
    "phon(new_size + total_failed)  # Run the main function\n",
    "fixed_set = remove_invalids()  # Remove invalids returns all items currently in the phonetics list\n",
    "\n",
    "# Keep repeating the process of getting phoneme_words until all phonetics are reached.\n",
    "while len(fixed_set) < original_size:\n",
    "    phon(original_size - len(fixed_set))\n",
    "    fixed_set = remove_invalids()  # remove invalid phoneme-words and update lists of words\n",
    "\n",
    "# Log the total time the function took to run.\n",
    "total_time = time.time() - start_time\n",
    "print(total_time)\n",
    "\n",
    "# Store the time in the timing document, used to optimize the functions and decrease runtime.\n",
    "time_file = codecs.open(\"conc_timing.txt\", \"a\")\n",
    "time_file.write(str(total_time) + \"\\n\")\n",
    "time_file.close()\n",
    "\n",
    "# Update the words_beta.txt and error by subtracting all words that do not work.\n",
    "a_dict = set(codecs.open(\"words_alpha.txt\", \"r\", \"utf-8-sig\").read().replace(\"\\r\", \"\").split(\"\\n\"))\n",
    "b_write = codecs.open(dict_filename, \"w\", \"utf-8-sig\")\n",
    "err = set(codecs.open(err_filename, \"r\", \"utf-8-sig\").read().replace(\"\\r\", \"\").split(\"\\n\"))\n",
    "err_write = codecs.open(err_filename, \"w\", \"utf-8-sig\")\n",
    "\n",
    "new_dict_set = a_dict - err  # Subtract the set of errors from the beta dictionary\n",
    "\n",
    "# Write each line back to the beta file\n",
    "for word in new_dict_set:\n",
    "    b_write.write(word + \"\\n\")\n",
    "\n",
    "# Write each error back to the error file\n",
    "for errors in err:\n",
    "    err_write.write(errors + \"\\n\")\n",
    "\n",
    "# Close out the file\n",
    "b_write.close()\n",
    "err_write.close()"
   ]
  },
  {
   "cell_type": "markdown",
   "metadata": {
    "collapsed": false
   },
   "source": [
    "## Building the model\n",
    "\n",
    "Now we will discuss building and training the model. First well do a bit of setup, importing libraries and computing vocabularies for phonemes and graphemes. A vocabulary is a set of known tokens corresponding, in our case, to phoneme or grapheme tokens. The grapheme list will just be the English alphabet, but there are many more phonemes in the International Phonetic Alphabet. "
   ]
  },
  {
   "cell_type": "code",
   "execution_count": 1,
   "metadata": {
    "collapsed": false,
    "pycharm": {
     "name": "#%%\n"
    }
   },
   "outputs": [
    {
     "name": "stdout",
     "output_type": "stream",
     "text": [
      "['0', '1', 'k', 'y', 'ʊ', 'r', 'ɑ', 'a', 'ɪ', 'z', 'æ', 't', 'ə', 'b', 'n', 'u', 'l', 'm', 'ɛ', 'd', 'e', 'ʃ', 's', 'ʌ', 'g', 'f', 'o', 'θ', 'ɒ', 'i', 'ʒ', 'p', 'ɔ', 'v', 'ː', 'h', 'ŋ', 'w', '̃', 'ɡ', 'j', 'ɜ', 'ð', 'ʰ', 'x', 'c', 'œ', 'ü', 'ɘ', 'ø', 'ĩ']\n"
     ]
    }
   ],
   "source": [
    "# necessary imports\n",
    "import torch\n",
    "import torch.nn as nn\n",
    "import torch.optim as optim\n",
    "import torch.nn.functional as F\n",
    "torch.manual_seed(0)\n",
    "from torch.utils.data import Dataset\n",
    "from torch.utils.data import random_split\n",
    "from torch.utils.data import DataLoader\n",
    "import matplotlib.pyplot as plt\n",
    "import random\n",
    "import pandas as pd\n",
    "# for logging\n",
    "from torch.utils.tensorboard import SummaryWriter\n",
    "\n",
    "# Compute phoneme/grapheme vocabularies\n",
    "data = pd.read_csv(\"phonemes-words.csv\")\n",
    "phonemes_col = data[\"phonemes\"]\n",
    "graphemes_col = data[\"graphemes\"]\n",
    "# vocabularies contain 0 and 1 as start and end tokens\n",
    "phonemes = ['0', '1']\n",
    "graphemes = ['0', '1']\n",
    "\n",
    "# Get each phoneme within our data\n",
    "for word in phonemes_col:\n",
    "    for phoneme in word:\n",
    "        if phoneme not in phonemes:\n",
    "            phonemes.append(phoneme)\n",
    "\n",
    "# Get each grapheme within our data\n",
    "for word in graphemes_col:\n",
    "    for grapheme in word:\n",
    "        if grapheme not in graphemes:\n",
    "            graphemes.append(grapheme)\n",
    "\n",
    "# wow, there are lot of different phonemes!\n",
    "print(phonemes)"
   ]
  },
  {
   "cell_type": "markdown",
   "metadata": {},
   "source": [
    "Wow! Thats a lot of phonemes. Hopefully the model can learn all of those 🙂.\n",
    "\n",
    "\n",
    "Now lets define a couple of helper functions to encode and decode phoneme/grapheme strings. Computers can't process letters themselves, so when we feed phonemes and graphemes into the model, we will 1-hot encode them. Well also define a Pytorch Dataset object to efficiently iterate through our dataset at training time."
   ]
  },
  {
   "cell_type": "code",
   "execution_count": 2,
   "metadata": {
    "collapsed": false,
    "pycharm": {
     "name": "#%%\n"
    }
   },
   "outputs": [],
   "source": [
    "def nemes_to_1_hot_seq(string, nemes=\"phonemes\"):\n",
    "    \"\"\"\n",
    "    One hot encodes the word according to either the phoneme or grapheme list\n",
    "\n",
    "    :returns torch.FloatTensor([seq]): pytorch tensor of one hot encoded characters\n",
    "    \"\"\"\n",
    "    string = '0' + string + '1'\n",
    "    list = phonemes if nemes == \"phonemes\" else graphemes\n",
    "    seq = []\n",
    "\n",
    "    for i in string:\n",
    "        vec = [0] * len(list)\n",
    "        vec[list.index(i)] = 1\n",
    "        seq.append(vec)\n",
    "\n",
    "    return torch.FloatTensor([seq])\n",
    "\n",
    "\n",
    "def one_hot_to_nemes(one_hot, nemes=\"phonemes\"):\n",
    "    \"\"\"\n",
    "    Converts a 1-hot encoding back to characters\n",
    "\n",
    "    :param arr: of one hot encoded characters\n",
    "    :param nemes:\n",
    "\n",
    "    :return seq: sequence of characters\n",
    "    \"\"\"\n",
    "    seq = []\n",
    "    list = phonemes if nemes == \"phonemes\" else graphemes\n",
    "\n",
    "    for hot in one_hot:\n",
    "        x = torch.argmax(hot)\n",
    "        seq.append(list[x])\n",
    "    return seq\n",
    "\n",
    "\n",
    "class P2GDataset(Dataset):\n",
    "    \"\"\"\n",
    "    Pytorch dataset object for sampling the dataset\n",
    "    \"\"\"\n",
    "\n",
    "    def __init__(self, phoneme_file, device):\n",
    "        \"\"\"\n",
    "        :param phoneme_file: Name of the file where the phonemes are stored\n",
    "        :param device: Whether P2G will be run on cpu or gpu\n",
    "\n",
    "        :type phoneme_file: str\n",
    "        :type device: str\n",
    "        \"\"\"\n",
    "        df = pd.read_csv(phoneme_file)\n",
    "        self.data = df\n",
    "        self.device = device\n",
    "\n",
    "    def __len__(self):\n",
    "        return len(self.data)\n",
    "\n",
    "    def __getitem__(self, idx):\n",
    "        \"\"\"\n",
    "        Retrieves an item at index idx\n",
    "\n",
    "        :param idx: index of item to get\n",
    "        :return: phonemes one_hot encoded run on device, graphemes one hot encoded run using long\n",
    "        \"\"\"\n",
    "\n",
    "        p, g = self.data.iloc[idx]\n",
    "        # 1-hot encoding\n",
    "        return nemes_to_1_hot_seq(p, nemes=\"phonemes\").to(self.device), nemes_to_1_hot_seq(g, nemes=\"graphemes\").long()\n"
   ]
  },
  {
   "cell_type": "markdown",
   "metadata": {},
   "source": [
    "## Exploratory Data Analysis\n",
    "Before getting into the model itself, lets take a look at the data. Our model will read a phonetic spelling (the first column) and attempt to output the corresponding English grapheme (the second column)."
   ]
  },
  {
   "cell_type": "code",
   "execution_count": 3,
   "metadata": {},
   "outputs": [
    {
     "name": "stdout",
     "output_type": "stream",
     "text": [
      "Size of dataset: 78845\n"
     ]
    },
    {
     "data": {
      "text/html": [
       "<div>\n",
       "<style scoped>\n",
       "    .dataframe tbody tr th:only-of-type {\n",
       "        vertical-align: middle;\n",
       "    }\n",
       "\n",
       "    .dataframe tbody tr th {\n",
       "        vertical-align: top;\n",
       "    }\n",
       "\n",
       "    .dataframe thead th {\n",
       "        text-align: right;\n",
       "    }\n",
       "</style>\n",
       "<table border=\"1\" class=\"dataframe\">\n",
       "  <thead>\n",
       "    <tr style=\"text-align: right;\">\n",
       "      <th></th>\n",
       "      <th>phonemes</th>\n",
       "      <th>graphemes</th>\n",
       "    </tr>\n",
       "  </thead>\n",
       "  <tbody>\n",
       "    <tr>\n",
       "      <th>0</th>\n",
       "      <td>kyʊrɑraɪz</td>\n",
       "      <td>curarize</td>\n",
       "    </tr>\n",
       "    <tr>\n",
       "      <th>1</th>\n",
       "      <td>ætəbrɪn</td>\n",
       "      <td>atebrin</td>\n",
       "    </tr>\n",
       "    <tr>\n",
       "      <th>2</th>\n",
       "      <td>butlɪk</td>\n",
       "      <td>bootlick</td>\n",
       "    </tr>\n",
       "    <tr>\n",
       "      <th>3</th>\n",
       "      <td>mɛndeɪʃəs</td>\n",
       "      <td>mendacious</td>\n",
       "    </tr>\n",
       "    <tr>\n",
       "      <th>4</th>\n",
       "      <td>lʌgər</td>\n",
       "      <td>lugger</td>\n",
       "    </tr>\n",
       "    <tr>\n",
       "      <th>5</th>\n",
       "      <td>ludnɪs</td>\n",
       "      <td>lewdness</td>\n",
       "    </tr>\n",
       "    <tr>\n",
       "      <th>6</th>\n",
       "      <td>nɛfroʊlɪθɒtəmi</td>\n",
       "      <td>nephrolithotomy</td>\n",
       "    </tr>\n",
       "    <tr>\n",
       "      <th>7</th>\n",
       "      <td>dʒaɪənt</td>\n",
       "      <td>giant</td>\n",
       "    </tr>\n",
       "    <tr>\n",
       "      <th>8</th>\n",
       "      <td>maɪkroʊb</td>\n",
       "      <td>microbe</td>\n",
       "    </tr>\n",
       "    <tr>\n",
       "      <th>9</th>\n",
       "      <td>dɑrnər</td>\n",
       "      <td>darner</td>\n",
       "    </tr>\n",
       "    <tr>\n",
       "      <th>10</th>\n",
       "      <td>pɒtsəlænɪk</td>\n",
       "      <td>pozzolanic</td>\n",
       "    </tr>\n",
       "    <tr>\n",
       "      <th>11</th>\n",
       "      <td>proʊθɔræks</td>\n",
       "      <td>prothorax</td>\n",
       "    </tr>\n",
       "    <tr>\n",
       "      <th>12</th>\n",
       "      <td>sʌbsɪdi</td>\n",
       "      <td>subsidy</td>\n",
       "    </tr>\n",
       "    <tr>\n",
       "      <th>13</th>\n",
       "      <td>ripəzɪʃən</td>\n",
       "      <td>reposition</td>\n",
       "    </tr>\n",
       "    <tr>\n",
       "      <th>14</th>\n",
       "      <td>əfloʊt</td>\n",
       "      <td>afloat</td>\n",
       "    </tr>\n",
       "  </tbody>\n",
       "</table>\n",
       "</div>"
      ],
      "text/plain": [
       "          phonemes        graphemes\n",
       "0        kyʊrɑraɪz         curarize\n",
       "1          ætəbrɪn          atebrin\n",
       "2           butlɪk         bootlick\n",
       "3        mɛndeɪʃəs       mendacious\n",
       "4            lʌgər           lugger\n",
       "5           ludnɪs         lewdness\n",
       "6   nɛfroʊlɪθɒtəmi  nephrolithotomy\n",
       "7          dʒaɪənt            giant\n",
       "8         maɪkroʊb          microbe\n",
       "9           dɑrnər           darner\n",
       "10      pɒtsəlænɪk       pozzolanic\n",
       "11      proʊθɔræks        prothorax\n",
       "12         sʌbsɪdi          subsidy\n",
       "13       ripəzɪʃən       reposition\n",
       "14          əfloʊt           afloat"
      ]
     },
     "execution_count": 3,
     "metadata": {},
     "output_type": "execute_result"
    }
   ],
   "source": [
    "import matplotlib.pyplot as plt\n",
    "\n",
    "device = \"cuda\" if torch.cuda.is_available() else \"cpu\"  # Whether to run on cuda or cpu\n",
    "dataset = P2GDataset(\"phonemes-words.csv\", device)  # initialize our dataset to be run on \"device\"\n",
    "print(\"Size of dataset: \" + str(len(dataset)))\n",
    "dataset.data.head(15)"
   ]
  },
  {
   "cell_type": "markdown",
   "metadata": {},
   "source": [
    "Now lets graph word lengths:"
   ]
  },
  {
   "cell_type": "code",
   "execution_count": 15,
   "metadata": {},
   "outputs": [
    {
     "data": {
      "image/png": "[encoded data removed]",
      "text/plain": [
       "<Figure size 432x288 with 1 Axes>"
      ]
     },
     "metadata": {
      "needs_background": "light"
     },
     "output_type": "display_data"
    }
   ],
   "source": [
    "# calculate the frequency of words within our dataset that have each existing word length\n",
    "dict = {}\n",
    "for index in range(len(dataset.data)):\n",
    "    phnme, grphme = dataset.data.iloc[index]\n",
    "\n",
    "    if len(grphme) in dict:\n",
    "        dict[len(grphme)] += 1\n",
    "    else:\n",
    "        dict[len(grphme)] = 1\n",
    "\n",
    "Y = []\n",
    "for char in dict.keys():\n",
    "    Y.append(dict[ele])\n",
    "\n",
    "# Plot the distribution of word lengths as a frequency plot.\n",
    "X = dict.keys()\n",
    "fig = plt.figure()\n",
    "plt.bar(X, Y, 0.4, color=\"green\")\n",
    "plt.xlabel(\"Length of Word\")\n",
    "plt.ylabel(\"# of Words\")\n",
    "plt.title(\"# of Words of Different Lengths\")\n",
    "plt.show()\n"
   ]
  },
  {
   "cell_type": "markdown",
   "metadata": {},
   "source": [
    "This graph shows the distribution of lengths of words in the dataset. It looks like a normal with a slight leftward skew. The median word length is around 8, which happens to be the sequence length that vanilla seq2seq (e.g. Cho et al) implementations experience signifigant performance degrading. We will use a more complex architecture to hopefully deal with this, and we should expect best performance on words of length 8 since our data is concentrated there."
   ]
  },
  {
   "cell_type": "markdown",
   "metadata": {},
   "source": [
    "Now lets graph letter densities:"
   ]
  },
  {
   "cell_type": "code",
   "execution_count": 4,
   "metadata": {},
   "outputs": [
    {
     "data": {
      "image/png": "[encoded data removed]",
      "text/plain": [
       "<Figure size 432x288 with 1 Axes>"
      ]
     },
     "metadata": {
      "needs_background": "light"
     },
     "output_type": "display_data"
    }
   ],
   "source": [
    "# Calculate the percentage distribution of letters (graphemes)\n",
    "dict = {}\n",
    "for index in range(len(dataset.data)):\n",
    "    phnme, grphme = dataset.data.iloc[index]\n",
    "    lowString = grphme.lower()\n",
    "\n",
    "    # Increment frequency of character by one\n",
    "    for char in lowString:\n",
    "        if char in dict:\n",
    "            dict[char] += 1\n",
    "        # Add the character to the list and initialize as 1\n",
    "        else:\n",
    "            dict[char] = 1\n",
    "\n",
    "Y = []\n",
    "# Calculate the percent for each element\n",
    "for ele in dict.keys():\n",
    "    Y.append(dict[ele] / len(dataset.data))\n",
    "\n",
    "# Plot each element using the original dict keys as the X value and the Y as the percentage per character.\n",
    "X = dict.keys()\n",
    "fig = plt.figure()\n",
    "plt.bar(sorted(X), Y, 0.4, color=\"green\")\n",
    "plt.xlabel(\"letter\")\n",
    "plt.ylabel(\"Average Number of Occurrences in a Word\")\n",
    "plt.title(\"\")\n",
    "plt.show()"
   ]
  },
  {
   "cell_type": "markdown",
   "metadata": {},
   "source": [
    "This chart shows the average amount of each letter in words in the dataset. No letter occurs more than once on\n",
    "average,  but \"g\" is quite close. We would not expect any letters to occur more than once on average considering that\n",
    "the average word length is 8, but there are 26 grapheme characters. The surplus of \"g\"s is surprising and the unequal\n",
    "distribution of letters may lead to the model overpredicting \"g\"s. \"h\" occurs frequently, but \"f\" does not, so\n",
    " perhaps we will see strange spellings of the \"f\" sound, such as the well known example of \"fish\" being spelled as\n",
    " \"ghoti\" (\"gh\" produces the f sound as in laugh, \"o\" produces the \"ih\" sound as in women, and \"ti\" produces the shh\n",
    " sound as in potion). 🙂"
   ]
  },
  {
   "cell_type": "markdown",
   "metadata": {},
   "source": [
    "# Architecture\n",
    "We tested many varieties of RNNs for this project. We tried the following combinations:\n",
    "\n",
    "Single layer GRU encoder+decoder\n",
    "\n",
    "Double/Triple stacked GRU encoder+decoder\n",
    "\n",
    "Single layer LSTM encoder+decoder\n",
    "\n",
    "We also varied hidden sizes, testing 512 or 1024\n",
    "\n",
    "We settled on the following architecture (hidden size 512):\n",
    "\n",
    "Double stacked bidirectional GRU encoder -> linear layer which accepts the last forward/backward hidden layers and converts them to a vector the size of a single hidden layer -> unstacked unidirectional GRU decoder with Bahdanau attention.\n",
    "\n",
    "## Reasoning\n",
    "Why did we choose these neural network combinations, and what were their results? <br>\n",
    "We chose these neural network types because we needed RNNs perform well with sequential data. We decided we needed more complex RNNs (e.g. LSTMs, GRUs as opposed to a vanilla Elman RNN) with cell states in order to deal with the complex and potentially long input sequences. Accuracy for these models generally sat around 30% on the test set. This means that 30% of words get spelled exactly correctly, but most words are a few characters off.\n",
    "\n",
    "What was our strategy for increasing accuracy? <br>\n",
    "\n",
    "We tried using deeper models, stacking GRUs, testing LSTMs, and introducing attention. Bahdanau attention was able to boost test test performance to 50% accuracy, a big step.\n",
    "\n",
    "What else could we do to increase the accuracy? <br>\n",
    "State of the art work on G2P for English (the opposite of our task) uses transformers. This would be the next step for this problem."
   ]
  },
  {
   "cell_type": "code",
   "execution_count": 16,
   "metadata": {
    "collapsed": false,
    "pycharm": {
     "name": "#%%\n"
    }
   },
   "outputs": [],
   "source": [
    "# hidden layer size\n",
    "layer_size = 512\n",
    "\n",
    "\n",
    "# define model architecture\n",
    "class Encoder(nn.Module):\n",
    "    def __init__(self):\n",
    "        super().__init__()\n",
    "        self.encoder = nn.GRU(len(phonemes), layer_size, 2, batch_first=True, bidirectional=True, dropout=0.5)\n",
    "        # Set up the encoder's fully connected (fc) variable as a sequential neural network\n",
    "        self.fc = nn.Sequential(\n",
    "            # takes final forwards and backwards hidden states as parameters\n",
    "            nn.Linear(2 * layer_size, layer_size),\n",
    "            nn.Tanh()\n",
    "        )\n",
    "\n",
    "    def forward(self, vector):\n",
    "        \"\"\"\n",
    "        Push vector through encoder\n",
    "\n",
    "        :param vector:\n",
    "        :return out, hidden_for_init: context vector\n",
    "        \"\"\"\n",
    "        # out is the output of the encoder neural network\n",
    "        # hidden is [4, 1, layer_size]\n",
    "        # this is because of bidirectionality * double stacked\n",
    "        out, hidden = self.encoder(vector)\n",
    "\n",
    "        # we want to grab the \"highest\" layers from the forwards and backwards directions\n",
    "        # dim 1 because hidden[3] and hidden[4] are both [1, layer_size] and we\n",
    "        # want a single batch that has 2*layer_size values\n",
    "        hc = torch.cat((hidden[2], hidden[3]), dim=1)\n",
    "        # pass the hidden concatenated (hc) layers to the fully connected neural network\n",
    "        hidden_for_init = self.fc(hc)\n",
    "\n",
    "        # return context vector\n",
    "        return out, hidden_for_init\n",
    "\n",
    "\n",
    "class Attention(nn.Module):\n",
    "    def __init__(self):\n",
    "        super().__init__()\n",
    "        # 2 from encoder state and 1 from decoder state (since not bidirectional)\n",
    "        self.energy = nn.Sequential(\n",
    "            nn.Linear(3 * layer_size, layer_size),\n",
    "            nn.Tanh()\n",
    "        )\n",
    "        # map energy vectors to single values\n",
    "        self.attention = nn.Linear(layer_size, 1, bias=False)\n",
    "\n",
    "    def forward(self, encoder_hiddens, decoder_hidden):\n",
    "        \"\"\"\n",
    "        Feed forward neural network\n",
    "\n",
    "        :param encoder_hiddens: is [1, L, layer_size*2] because it is bidirectional\n",
    "        :param decoder_hidden:is [1, layer_size]\n",
    "        :return:\n",
    "        \"\"\"\n",
    "\n",
    "        # 1 bc using batch first\n",
    "        num_encoder_hiddens = encoder_hiddens.shape[1]\n",
    "        # make it [1,1,layer_size]\n",
    "        decoder_hidden = torch.unsqueeze(decoder_hidden, 0)\n",
    "        # repeat along second dim to get [4, 1, layer_size]\n",
    "        decoder_hiddens = decoder_hidden.squeeze(0).repeat(1, num_encoder_hiddens, 1)\n",
    "\n",
    "        inputs = torch.cat((encoder_hiddens, decoder_hiddens), 2)\n",
    "        energy = self.energy(inputs)\n",
    "        attention = self.attention(energy)\n",
    "\n",
    "        # we want a distribution of attention that sums to 1, so we use the nn.functional softmax function\n",
    "        return F.softmax(attention, dim=2)\n",
    "\n",
    "\n",
    "class Decoder(nn.Module):\n",
    "    def __init__(self, attention):\n",
    "        \"\"\"\n",
    "        :param attention: the attention module\n",
    "        \"\"\"\n",
    "        super().__init__()\n",
    "        self.attention = attention\n",
    "        # decoder GRU takes in previous output word, attention vector, current hidden state\n",
    "        self.decoder = nn.GRU(len(graphemes) + 2 * layer_size, layer_size, batch_first=True)\n",
    "\n",
    "        self.fc = nn.Sequential(\n",
    "            nn.Linear(layer_size * 3 + len(graphemes), len(graphemes))\n",
    "        )\n",
    "\n",
    "    def forward(self, input, hidden_layer, encoder_hiddens):\n",
    "        \"\"\"\n",
    "        Since this function gets called once at a time rather than taking in\n",
    "        a sequence of vectors, we need to pass it the last output. This will be just\n",
    "        a vector of numbers that can be converted to the embedding representing that last output\n",
    "\n",
    "        :param input: vector of numbers that can be converted to the embedding representing that last output\n",
    "        :param hidden_layer: [1,1,layer_size]\n",
    "        :param encoder_hiddens: [1,L,layer_size]\n",
    "        \"\"\"\n",
    "        attention_vals = self.attention(encoder_hiddens, hidden_layer)\n",
    "        attention_vals = attention_vals.permute(0, 2, 1)\n",
    "\n",
    "        # and sums the weighted vectors\n",
    "        # will be [1, 1, layer_size]\n",
    "        # bmm multiplies matrix-matrix products, which multiplies each attention value against the appropriate vector\n",
    "        # and sums the weighted vectors\n",
    "        attended = torch.bmm(attention_vals, encoder_hiddens)\n",
    "        input = torch.cat((attended, input), dim=2)\n",
    "        out, hidden = self.decoder(input, hidden_layer)\n",
    "        # out[1] to get top hidden layer\n",
    "        input_for_fc = torch.cat((input, out), dim=2)\n",
    "\n",
    "        return self.fc(input_for_fc), hidden\n",
    "\n",
    "\n",
    "class seq2seq(nn.Module):\n",
    "    \"\"\"\n",
    "    The seq2seq model itself\n",
    "    \"\"\"\n",
    "\n",
    "    def __init__(self, device):\n",
    "        super().__init__()\n",
    "        # instantiate encoder and decoder with attention\n",
    "        self.encoder = Encoder()\n",
    "        self.decoder = Decoder(Attention())\n",
    "        self.device = device\n",
    "\n",
    "    def forward(self, in_seq, out_seq, tf_ratio=0.5):\n",
    "        \"\"\"\n",
    "        :param in_seq:\n",
    "        :param out_seq:\n",
    "        :param tf_ratio: is the teacher forcing ratio. It decides how frequently\n",
    "        the model receives its own previously predicted token as opposed to the\n",
    "        known correct token.\n",
    "        \"\"\"\n",
    "        out_len = out_seq.shape[1]\n",
    "        # storing the outputs of the sequence\n",
    "        outputs = torch.zeros(out_len, 1, len(graphemes)).to(self.device)\n",
    "\n",
    "        out_for_at, hidden = self.encoder(in_seq)\n",
    "        hidden = hidden.unsqueeze(0)\n",
    "        out_seq = out_seq.squeeze(0)\n",
    "\n",
    "        # perform an embarassing amount of data conversions\n",
    "        input = out_seq[0].unsqueeze(0).unsqueeze(0).float().to(device)\n",
    "\n",
    "        # for each token in known out sequence (except the first)\n",
    "        for i in range(1, out_len):\n",
    "            out, hidden = self.decoder(input, hidden, out_for_at)\n",
    "            outputs[i] = out\n",
    "\n",
    "            if random.random() > tf_ratio:\n",
    "                # teacher forcing (make next input what the current output token should be)\n",
    "                input = out_seq[i].unsqueeze(0).unsqueeze(0).float().to(device)\n",
    "            else:\n",
    "                # use previously output token\n",
    "                x = input.argmax(1)[0]\n",
    "                input = torch.zeros(1, 1, len(graphemes)).to(self.device)\n",
    "                input[0][0][x] = 1\n",
    "\n",
    "        return outputs\n",
    "\n",
    "    def pred_new(self, in_seq):\n",
    "        \"\"\"\n",
    "        Method to predict the output sequence for a previously unseen\n",
    "        input sequence. The main difference between this function and forward\n",
    "        is that this function only stops decoding when the model produces an\n",
    "        end token.\n",
    "\n",
    "        :param in_seq:\n",
    "        :return: decoded outputs from the neural network\n",
    "        \"\"\"\n",
    "        encoder_out_for_at, hidden = self.encoder(in_seq)\n",
    "        hidden = hidden.unsqueeze(0)\n",
    "        input = torch.zeros(1, 1, len(graphemes)).to(self.device)\n",
    "        outs = []\n",
    "\n",
    "        while True:\n",
    "            out, hidden = self.decoder(input, hidden, encoder_out_for_at)\n",
    "            outs.append(out)\n",
    "\n",
    "            # in case not hitting end token\n",
    "            if len(outs) > 50:\n",
    "                break\n",
    "\n",
    "            x = input.argmax(1)[0]\n",
    "            input = torch.zeros(1, 1, len(graphemes)).to(self.device)\n",
    "            input[0][0][x] = 1\n",
    "\n",
    "            # end token used to stop decoding the model\n",
    "            if one_hot_to_nemes(out) == ['1']:\n",
    "                break\n",
    "        return outs"
   ]
  },
  {
   "cell_type": "markdown",
   "metadata": {},
   "source": [
    "## Getting ready to train\n",
    "\n",
    "Now that we have a beautiful architecture, we need to instantiate it as well as a loss function and an optimizer. We use cross entropy loss since the model outputs a \"class\" (one of a number of possible tokens) at each decoding step. We'll also use Adam, since more vanilla optimizers (e.g. SGD or SGD+momentum) will tend not to converge on a network this complex.\n",
    "\n",
    "We perform a ~90%-10% train test split. The following code includes a couple of functions for computing and displaying the 0-1 accuracy of the model. 0-1 accuracy counts only the words which the model gets exactly correct.\n",
    "\n",
    "Note that hyperparameters were tuned by hand."
   ]
  },
  {
   "cell_type": "code",
   "execution_count": 17,
   "metadata": {
    "collapsed": false,
    "pycharm": {
     "name": "#%%\n"
    }
   },
   "outputs": [
    {
     "name": "stdout",
     "output_type": "stream",
     "text": [
      "Model architecture  seq2seq(\n",
      "  (encoder): Encoder(\n",
      "    (encoder): GRU(51, 512, num_layers=2, batch_first=True, dropout=0.5, bidirectional=True)\n",
      "    (fc): Sequential(\n",
      "      (0): Linear(in_features=1024, out_features=512, bias=True)\n",
      "      (1): Tanh()\n",
      "    )\n",
      "  )\n",
      "  (decoder): Decoder(\n",
      "    (attention): Attention(\n",
      "      (energy): Sequential(\n",
      "        (0): Linear(in_features=1536, out_features=512, bias=True)\n",
      "        (1): Tanh()\n",
      "      )\n",
      "      (attention): Linear(in_features=512, out_features=1, bias=False)\n",
      "    )\n",
      "    (decoder): GRU(1052, 512, batch_first=True)\n",
      "    (fc): Sequential(\n",
      "      (0): Linear(in_features=1564, out_features=28, bias=True)\n",
      "    )\n",
      "  )\n",
      ")\n",
      "train size  70000\n",
      "test size  8845\n"
     ]
    }
   ],
   "source": [
    "# initialize optimizer/loss func/hyperparams\n",
    "EPOCHS = 15\n",
    "model = seq2seq(device).to(device)  # Model used to train on the data.\n",
    "# what a beautiful architecture\n",
    "print(\"Model architecture \", model)\n",
    "\n",
    "optimizer = optim.Adam(model.parameters(), lr=0.0001)\n",
    "loss_func = nn.CrossEntropyLoss()\n",
    "# train on 70000 words\n",
    "train, test = random_split(dataset, [70000, len(dataset) - 70000])\n",
    "dataloader = DataLoader(dataset=train, batch_size=1)\n",
    "print(\"train size \", len(train))\n",
    "print(\"test size \", len(test))\n",
    "\n",
    "\n",
    "def get_0_1_accuracy(test_set, model, print=True):\n",
    "    \"\"\"\n",
    "    method to compute (1 - WER) accuracy AKA what % of test_set does model get\n",
    "    exactly correct.\n",
    "\n",
    "    :param test_set: set of phoneme-words used to predict word accuracy\n",
    "    :param model:\n",
    "    :param print:\n",
    "    :return:\n",
    "    \"\"\"\n",
    "    correct = 0\n",
    "    dataloader = DataLoader(dataset=test_set, batch_size=1)\n",
    "    for (in_seq, out_seq) in dataloader:\n",
    "        prediction = model.pred_new(in_seq[0])\n",
    "        true = \"\".join(one_hot_to_nemes(out_seq[0][0], \"graphemes\"))[1:-1]\n",
    "        print(true)\n",
    "        pred = \"\".join(one_hot_to_nemes(prediction, \"graphemes\"))[0:-1]\n",
    "        print(pred)\n",
    "\n",
    "        if true == pred:\n",
    "            correct += 1\n",
    "\n",
    "    if correct == 0:\n",
    "        return correct\n",
    "    return correct / len(test_set)\n",
    "\n",
    "\n",
    "def gen_accuracy_plot(real, pred, title):\n",
    "    \"\"\"\n",
    "    Gnerates and displays a plot of performance on\n",
    "    different lengths of words\n",
    "\n",
    "    :param real: The actual correct word\n",
    "    :param pred: The predicted correct word\n",
    "    :param title: Title of the plot\n",
    "    :return:\n",
    "    \"\"\"\n",
    "\n",
    "    accuracy = {}\n",
    "    dict = {}\n",
    "\n",
    "    for i in range(len(real)):  # (iterate through all elements in real)\n",
    "        if real[i] == pred[i]:  # If the elements match then\n",
    "            if len(real[i]) in accuracy:  # if the length of the element is in dictionary \"accuracy\"\n",
    "                accuracy[len(real[i])] += 1  # add 1 to the length of the element\n",
    "            else:\n",
    "                accuracy[len(real[i])] = 1  # otherwise add the length as a new element starting from 1\n",
    "        else:  # if the real element does not match then\n",
    "            if len(real[i]) not in accuracy:  # If the length of the real element is not in accuracy\n",
    "                accuracy[len(real[i])] = 0  # add the length as a new element starting from 0\n",
    "\n",
    "        if len(real[i]) in dict:  # if the length is already in dictionary, \"dict\"\n",
    "            dict[len(real[i])] += 1  # add one to that length\n",
    "        else:\n",
    "            dict[len(real[i])] = 1  # otherwise add a new element for that length beginning from one\n",
    "    X = dict.keys()  # get all of the total elements with each length\n",
    "    Y = []\n",
    "\n",
    "    for i in X:  # add each total correct element as a float to the list Y and divide by the total number of elements for that length\n",
    "        Y.append(1.0 * accuracy[i] / dict[i])\n",
    "    plt.bar(X, Y, 0.4, color=\"green\")\n",
    "    plt.xlabel(\"Length\")\n",
    "    plt.ylabel(\"Accuracy\")\n",
    "    plt.title(title)\n"
   ]
  },
  {
   "cell_type": "code",
   "execution_count": 18,
   "metadata": {
    "collapsed": false,
    "pycharm": {
     "name": "#%%\n"
    }
   },
   "outputs": [
    {
     "name": "stdout",
     "output_type": "stream",
     "text": [
      "# of model parameters:  10221868\n"
     ]
    }
   ],
   "source": [
    "print(\"# of model parameters: \", sum(p.numel() for p in model.parameters()))"
   ]
  },
  {
   "cell_type": "markdown",
   "metadata": {
    "collapsed": false
   },
   "source": [
    "Wow, 10 million params! This model has more trainable parameters than tonnes of potatoes France produced in 2016! (absolutely no semantic relation). This might take a while to train, so make sure to use a NVIDIA GeForce RTX 3090 Ti 🙂."
   ]
  },
  {
   "cell_type": "markdown",
   "metadata": {},
   "source": [
    "## Training\n",
    "\n",
    "Our training loop is quite simple. We use a batch size of 1, so as not to deal with padding/packing. We record a couple metrics like loss and current accuracy on the test set as the model progresses. This part will likely take a while to compute."
   ]
  },
  {
   "cell_type": "code",
   "execution_count": null,
   "metadata": {
    "collapsed": false,
    "pycharm": {
     "name": "#%%\n"
    }
   },
   "outputs": [],
   "source": [
    "writer = SummaryWriter(\"tensorboard_data\")\n",
    "# get a mini testing batch to check model accuracy on the test set\n",
    "# throughout training\n",
    "# NOTE: this is not a validation set\n",
    "mini_test, _ = random_split(test, [20, len(test) - 20])\n",
    "\n",
    "# begin training loop\n",
    "for epoch in range(EPOCHS):\n",
    "    tot_loss = 0\n",
    "    for (in_seq, out_seq) in dataloader:\n",
    "        # batch size of 1\n",
    "        in_seq = in_seq.squeeze(0)\n",
    "        out_seq = out_seq.squeeze(0)\n",
    "        # perform inference\n",
    "        model_output = model(in_seq, out_seq)\n",
    "        # dont compute loss using first token of in/out sequence\n",
    "        model_output = model_output[1:]\n",
    "        model_output = model_output.squeeze(1)\n",
    "        out_seq = out_seq.squeeze(0)[1:]\n",
    "        # compute loss\n",
    "        loss = loss_func(model_output, out_seq.argmax(1).to(device))\n",
    "        # record loss\n",
    "        tot_loss += loss.detach().item()\n",
    "        # accumulate gradients\n",
    "        loss.backward()\n",
    "        # step and clear grads\n",
    "        optimizer.step()\n",
    "        optimizer.zero_grad()\n",
    "\n",
    "    tot_loss /= len(train)\n",
    "    # record current accuracy on test set and average loss\n",
    "    writer.add_scalar(\"tensorboard_data/acc\", get_0_1_accuracy(mini_test, model), epoch)\n",
    "    writer.add_scalar(\"tensorboard_data/loss\", tot_loss, epoch)\n",
    "torch.save(model, \"THEMODEL60%\")"
   ]
  },
  {
   "cell_type": "code",
   "execution_count": 63,
   "metadata": {
    "collapsed": false,
    "pycharm": {
     "name": "#%%\n"
    }
   },
   "outputs": [
    {
     "name": "stdout",
     "output_type": "stream",
     "text": [
      "plasma\n",
      "plasma\n",
      "obligatory\n",
      "obbigatory\n",
      "sciosophy\n",
      "scyosophy\n",
      "inning\n",
      "inning\n",
      "ecchymosis\n",
      "echmocisis\n",
      "tailspin\n",
      "tailspin\n",
      "eudiometry\n",
      "eudiometry\n",
      "acetanilide\n",
      "acetanilidd\n",
      "interlineate\n",
      "interleneate\n",
      "dizygotic\n",
      "disiggtii\n",
      "heptad\n",
      "heptad\n",
      "gadhelic\n",
      "gadhellc\n",
      "wellaway\n",
      "wellaway\n",
      "jesu\n",
      "jeauu\n",
      "boatsman\n",
      "boaesman\n",
      "blazon\n",
      "blazonn\n",
      "particularize\n",
      "particularize\n",
      "particulurize\n",
      "pure\n",
      "pure\n",
      "lusatian\n",
      "lusatian\n",
      "canonicate\n",
      "canonicate\n",
      "Test accuracy: 0.5847371396269079\n"
     ]
    }
   ],
   "source": [
    "# load model onto cpu\n",
    "model = torch.load(\"THEMODEL60%\", map_location=torch.device('cpu')).to(torch.device('cpu'))\n",
    "model.device = \"cpu\"\n",
    "# turn dropout off\n",
    "model.eval()\n",
    "\n",
    "with torch.no_grad():\n",
    "    print(\"Test accuracy: \" + str(get_0_1_accuracy(test, model)))"
   ]
  },
  {
   "cell_type": "markdown",
   "metadata": {
    "collapsed": false
   },
   "source": [
    "Well that accuracy is... disappointing. It might be better than the average human (when faced with 10s of thousands\n",
    "of rare words), but that's still a lot of errors.\n",
    "What is the reason for this?\n",
    "Even though the attention module should, in theory, allow the model to be much more performant, the English language\n",
    "is rife with inconsistent spelling and pronunciation rules. Additionally, some words (e.g. their, they\\re, there) are pronounced the same, so the model does not have enough information to distinguish between them. One more confounding factor is that the phonemes we are using are from the International Phonetic Alphabet, so are not as specific to the English language as the Carnegie Melon pronunciation dictionary ARPAbet (an English prononciation specification). Thus, the model needs to learn more complex rules, especially considering that there are more distinct phonemes in IPA than in ARPAbet. However, our use of IPA in theory allows better spelling on non-English words.\n",
    "\n",
    "What can we do about this poor performance? We can see a couple cells up that the model is generally off by just a few grapheme characters. Hopefully you are already thinking along the lines of spellcheck 🙂."
   ]
  },
  {
   "cell_type": "markdown",
   "metadata": {
    "collapsed": false
   },
   "source": [
    "![alt text](secret_ingredient.jpg)"
   ]
  },
  {
   "cell_type": "markdown",
   "metadata": {},
   "source": [
    "Here is a function similar to the 0_1_accuracy function above, but this one just returns the lists of words."
   ]
  },
  {
   "cell_type": "code",
   "execution_count": 64,
   "metadata": {},
   "outputs": [],
   "source": [
    "def get_true_pred_lists(test_set, model):\n",
    "    \"\"\"\n",
    "    Returns a list of correct outputs and a corresponding list of model predictions\n",
    "\n",
    "    :param test_set:\n",
    "    :param model:\n",
    "    :return:\n",
    "    \"\"\"\n",
    "\n",
    "    trues = []\n",
    "    preds = []\n",
    "    dataloader = DataLoader(dataset=test_set, batch_size=1)\n",
    "    for (in_seq, out_seq) in dataloader:\n",
    "        prediction = model.pred_new(in_seq[0])\n",
    "        true = \"\".join(one_hot_to_nemes(out_seq[0][0], \"graphemes\"))[1:-1]\n",
    "        trues.append(true)\n",
    "        pred = \"\".join(one_hot_to_nemes(prediction, \"graphemes\"))[0:-1]\n",
    "        preds.append(pred)\n",
    "\n",
    "    return trues, preds"
   ]
  },
  {
   "cell_type": "markdown",
   "metadata": {},
   "source": [
    "Lets import a spellcheck library and give it our known grapheme spellings"
   ]
  },
  {
   "cell_type": "code",
   "execution_count": 65,
   "metadata": {
    "collapsed": false,
    "pycharm": {
     "name": "#%%\n"
    }
   },
   "outputs": [],
   "source": [
    "import codecs\n",
    "from spellchecker import SpellChecker\n",
    "\n",
    "dict_filename = \"words_beta.txt\"  # `Name of the file containing many words - error\n",
    "err_filename = \"404s.txt\"  # List of all of the known error words\n",
    "\n",
    "dict_file = open(dict_filename).read()\n",
    "dict_list = dict_file.split(\"\\n\")\n",
    "\n",
    "a_dict = set(codecs.open(\"words_alpha.txt\", \"r\", \"utf-8-sig\").read().replace(\"\\r\", \"\").split(\"\\n\"))\n",
    "err = set(codecs.open(err_filename, \"r\", \"utf-8-sig\").read().replace(\"\\r\", \"\").split(\"\\n\"))\n",
    "\n",
    "spellcheck = SpellChecker().correction\n",
    "\n",
    "\n",
    "# Only spell check incorrect strings\n",
    "def spellcheck_1(string):\n",
    "    \"\"\"\n",
    "\n",
    "    :param string:\n",
    "    :return:\n",
    "    \"\"\"\n",
    "    spellchecked = string\n",
    "\n",
    "    # Check if the presented string is in the list of known words\n",
    "    if not string in a_dict:\n",
    "        # Attempt to autocorrect the word\n",
    "        spellchecked = spellcheck(\"\".join(string))\n",
    "        # print(\"new_word: \" + spellchecked)\n",
    "    return spellchecked\n",
    "\n",
    "\n",
    "trues, preds = get_true_pred_lists(test, model)\n",
    "\n",
    "\n",
    "def spellcheck_all(str_list):\n",
    "    \"\"\"\n",
    "\n",
    "    :param str_list:\n",
    "    :return:\n",
    "    \"\"\"\n",
    "    new_list = [None] * len(str_list)\n",
    "    str_list = list(str_list)\n",
    "\n",
    "    for i in range(len(str_list)):\n",
    "        new_list[i] = spellcheck_1(str_list[i])\n",
    "\n",
    "    # print(\"original list: \" + str(new_list))\n",
    "    return new_list\n",
    "\n",
    "\n",
    "def get_0_1_accuracy_with_lists(trues, preds):\n",
    "    \"\"\"compute 0 1 accuracy between true and pred lists of words\"\"\"\n",
    "    correct = 0\n",
    "    for (true, pred) in zip(trues, preds):\n",
    "        if pred == true:\n",
    "            correct += 1\n",
    "    return correct / len(trues)"
   ]
  },
  {
   "cell_type": "code",
   "execution_count": 67,
   "metadata": {},
   "outputs": [],
   "source": [
    "spell_checked_words = spellcheck_all(preds)"
   ]
  },
  {
   "cell_type": "code",
   "execution_count": 66,
   "metadata": {},
   "outputs": [
    {
     "name": "stdout",
     "output_type": "stream",
     "text": [
      "0.5847371396269079\n"
     ]
    },
    {
     "data": {
      "image/png": "[encoded data removed]",
      "text/plain": [
       "<Figure size 432x288 with 1 Axes>"
      ]
     },
     "metadata": {
      "needs_background": "light"
     },
     "output_type": "display_data"
    }
   ],
   "source": [
    "print(get_0_1_accuracy_with_lists(trues, preds))\n",
    "gen_accuracy_plot(trues, preds, \"Accuracy on Different Word Lengths\")"
   ]
  },
  {
   "cell_type": "code",
   "execution_count": 68,
   "metadata": {},
   "outputs": [
    {
     "name": "stdout",
     "output_type": "stream",
     "text": [
      "0.676088185415489\n"
     ]
    },
    {
     "data": {
      "image/png": "[encoded data removed]",
      "text/plain": [
       "<Figure size 432x288 with 1 Axes>"
      ]
     },
     "metadata": {
      "needs_background": "light"
     },
     "output_type": "display_data"
    }
   ],
   "source": [
    "print(get_0_1_accuracy_with_lists(trues, spell_checked_words))\n",
    "gen_accuracy_plot(trues, spell_checked_words, \"Accuracy on Different Word Lengths (With spellcheck)\")"
   ]
  },
  {
   "cell_type": "markdown",
   "metadata": {},
   "source": [
    "Yay! we got a +10% accuracy boost using spellcheck.\n",
    "\n",
    "We hope you enjoyed this journey through the highs and lows of data collection and model training 🙂.\n",
    "\n",
    "## Concluding Remarks\n",
    "With our limited resources, we were able to achieve a total phoneme to grapheme prediction accuracy of 67.6%. With more\n",
    " time, research, computation power, and data we believe we can significantly increase the prediction accuracy. However,\n",
    " with our current system and limited time, we are already able to predict more than two-thirds of words we found that\n",
    "  are\n",
    " not contained within our dataset. In the future, we would like to acquire more data and standardize our phonetics\n",
    " acquired from multiple dictionaries to create a massive library to train our model on. We expect this data increase to\n",
    " increase\n",
    " the overall accuracy of this for use with future word prediction models.\n",
    " <br>\n",
    " <br>\n",
    "Our model is standardized in such a way that a similar method could be used to predict words in systems that also use\n",
    " similar phonetics. This would allow for researchers around the world to use our system, replace the dictionary with\n",
    " a local dictionary, and  produce similar results with minimal changes to the code. After we have increased the\n",
    " accuracy, we plan to map spoken pronunciations to their respective phonemes to apply this technique to more\n",
    " accurately generate words that do not exist in a system's database."
   ]
  },
  {
   "cell_type": "markdown",
   "metadata": {
    "collapsed": false,
    "pycharm": {
     "name": "#%% md\n"
    }
   },
   "source": [
    "# Additional Resources\n",
    "If the reader would like more resources related to this topic:\n",
    "\n",
    "For learning the basics of RNNs, LSTMs, GRUs, attention (including Bahdanau), and seq2seq architectures, these resources are good:\n",
    "\n",
    "https://www.deeplearningbook.org/contents/rnn.html\n",
    "\n",
    "https://d2l.ai/chapter_recurrent-modern/seq2seq.html\n",
    "\n",
    "https://d2l.ai/chapter_attention-mechanisms/bahdanau-attention.html\n",
    "\n",
    "For more comprehensive tutorials that walk through the full deep learning process (including varied seq2seq architectures such as transformer), this is a good resource:\n",
    "\n",
    "https://github.com/bentrevett/pytorch-seq2seq\n",
    "\n",
    "These papers discuss grapheme->phoneme conversion with deep learning. This is an easier problem, but still requires complex models for high success rates:\n",
    "\n",
    "https://arxiv.org/abs/2004.06338\n",
    "\n",
    "https://static.googleusercontent.com/media/research.google.com/en//pubs/archive/43264.pdf\n",
    "\n",
    "Addtionally, here is a link to Cho et al's foundational seq2seq model paper:\n",
    "\n",
    "https://arxiv.org/abs/1406.1078\n",
    "\n",
    "If the reader is interested in speeding up their programs with concurrency:\n",
    "<br>https://realpython.com/python-concurrency/\n",
    "\n",
    "If the reader would like more information on techniques for web scraping:\n",
    "<br>https://realpython.com/python-web-scraping-practical-introduction/\n",
    "\n",
    "Here is a great introduction to various ideas around phonetics:\n",
    "<br>https://www.britannica.com/science/phonetics"
   ]
  }
 ],
 "metadata": {
  "kernelspec": {
   "display_name": "Python 3",
   "language": "python",
   "name": "python3"
  },
  "language_info": {
   "codemirror_mode": {
    "name": "ipython",
    "version": 3
   },
   "file_extension": ".py",
   "mimetype": "text/x-python",
   "name": "python",
   "nbconvert_exporter": "python",
   "pygments_lexer": "ipython3",
   "version": "3.9.7"
  }
 },
 "nbformat": 4,
 "nbformat_minor": 0
}
